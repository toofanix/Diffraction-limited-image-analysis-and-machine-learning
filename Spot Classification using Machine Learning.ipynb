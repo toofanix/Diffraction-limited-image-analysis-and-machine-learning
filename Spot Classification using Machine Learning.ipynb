{
 "cells": [
  {
   "cell_type": "markdown",
   "metadata": {},
   "source": [
    "# Spot Classification using Machine Learning\n",
    "In this notebook, I will use the 'spot_image_data\" that I had created in my previous notebook for training a model to classify spots into good and bad spots. The original dataset was created by fitting each spot using 2D Gaussian, and then using hard-set criteria for classification. The reason for implementing machine learning is that 2D Gaussian is computaionally very expensive for large dataset. Creating a good model can help reduce the time significantly. Also, a model can help in maintaining consistency between various experimental datasets."
   ]
  },
  {
   "cell_type": "markdown",
   "metadata": {},
   "source": [
    "## Import"
   ]
  },
  {
   "cell_type": "code",
   "execution_count": 2,
   "metadata": {
    "collapsed": false
   },
   "outputs": [],
   "source": [
    "%matplotlib inline\n",
    "import matplotlib.pyplot as plt\n",
    "import numpy as np\n",
    "import pickle\n",
    "import sympy"
   ]
  },
  {
   "cell_type": "markdown",
   "metadata": {},
   "source": [
    "## Load dataset"
   ]
  },
  {
   "cell_type": "code",
   "execution_count": 3,
   "metadata": {
    "collapsed": false
   },
   "outputs": [],
   "source": [
    "# The dataset was pickled. It is a Bunch object.\n",
    "with open('spot_image_data.pkl','rb') as fid:\n",
    "    image = pickle.load(fid)"
   ]
  },
  {
   "cell_type": "markdown",
   "metadata": {},
   "source": [
    "I will save the data in X and the target values in y. Data are the flattened images, and target values are the classification based on the 2D Gaussian fits."
   ]
  },
  {
   "cell_type": "code",
   "execution_count": 4,
   "metadata": {
    "collapsed": false
   },
   "outputs": [
    {
     "name": "stdout",
     "output_type": "stream",
     "text": [
      "Number of images = 3215\n",
      "Number of features per image = 81\n"
     ]
    }
   ],
   "source": [
    "X = image.data.astype(np.int32) # image data\n",
    "y = image.target.values # classification\n",
    "print (\"Number of images = {}\".format(X.shape[0]))\n",
    "print (\"Number of features per image = {}\".format(X.shape[1]))"
   ]
  },
  {
   "cell_type": "markdown",
   "metadata": {},
   "source": [
    "# Creating Training and Test Data set"
   ]
  },
  {
   "cell_type": "code",
   "execution_count": 22,
   "metadata": {
    "collapsed": false
   },
   "outputs": [],
   "source": [
    "from sklearn import metrics\n",
    "from sklearn.model_selection import train_test_split\n",
    "from sklearn.model_selection import cross_val_score\n",
    "from sklearn.model_selection import GridSearchCV\n",
    "X_train, X_test, y_train, y_test = train_test_split(X,y,test_size = 0.1)\n",
    "# I will used 10% data for testing and 90% for training."
   ]
  },
  {
   "cell_type": "markdown",
   "metadata": {},
   "source": [
    "## Logistic Regression\n",
    "First lets test cross validation score "
   ]
  },
  {
   "cell_type": "code",
   "execution_count": 21,
   "metadata": {
    "collapsed": false
   },
   "outputs": [
    {
     "data": {
      "text/plain": [
       "array([ 0.93470149,  0.91044776,  0.92343604])"
      ]
     },
     "execution_count": 21,
     "metadata": {},
     "output_type": "execute_result"
    }
   ],
   "source": [
    "from sklearn.linear_model import LogisticRegression\n",
    "logit1 = LogisticRegression(C=0.1,penalty='l2')\n",
    "cross_val_score(logit1,X,y,cv=3,n_jobs=-1)"
   ]
  },
  {
   "cell_type": "markdown",
   "metadata": {},
   "source": [
    "The scores are good."
   ]
  },
  {
   "cell_type": "markdown",
   "metadata": {},
   "source": [
    "## Multi-Layer Perceptron Regressor"
   ]
  },
  {
   "cell_type": "code",
   "execution_count": 47,
   "metadata": {
    "collapsed": false
   },
   "outputs": [
    {
     "data": {
      "text/plain": [
       "array([ 0.85261194,  0.83955224,  0.86087768])"
      ]
     },
     "execution_count": 47,
     "metadata": {},
     "output_type": "execute_result"
    }
   ],
   "source": [
    "from sklearn.neural_network import MLPClassifier\n",
    "nnclf_1 = MLPClassifier(hidden_layer_sizes=(24),activation='relu',solver='adam',alpha=0.1)\n",
    "cross_val_score(nnclf_1,X,y,cv=3,n_jobs=-1)"
   ]
  },
  {
   "cell_type": "markdown",
   "metadata": {},
   "source": [
    "The scores with one layer are no as good as with Logistic Regression"
   ]
  },
  {
   "cell_type": "code",
   "execution_count": 48,
   "metadata": {
    "collapsed": false
   },
   "outputs": [
    {
     "data": {
      "text/plain": [
       "array([ 0.84141791,  0.82742537,  0.80485528])"
      ]
     },
     "execution_count": 48,
     "metadata": {},
     "output_type": "execute_result"
    }
   ],
   "source": [
    "nnclf_2 = MLPClassifier(hidden_layer_sizes=(24,12),activation='relu',solver='adam',alpha=0.1)\n",
    "cross_val_score(nnclf_2,X,y,cv=3,n_jobs=-1)"
   ]
  },
  {
   "cell_type": "markdown",
   "metadata": {},
   "source": [
    "There is not improvement in scores on addition of another layer.  I have checked other values of alpha, but the scores don't get much better."
   ]
  },
  {
   "cell_type": "markdown",
   "metadata": {},
   "source": [
    "## Support Vector Machine (SVM)"
   ]
  },
  {
   "cell_type": "markdown",
   "metadata": {},
   "source": [
    "#### Linear Kernel"
   ]
  },
  {
   "cell_type": "code",
   "execution_count": 52,
   "metadata": {
    "collapsed": false
   },
   "outputs": [
    {
     "data": {
      "text/plain": [
       "array([ 0.93470149,  0.93097015,  0.9178338 ])"
      ]
     },
     "execution_count": 52,
     "metadata": {},
     "output_type": "execute_result"
    }
   ],
   "source": [
    "from sklearn import svm\n",
    "svc_linear =svm.SVC(C=0.1,kernel='linear')\n",
    "cross_val_score(svc_linear,X,y,cv=3,n_jobs=-1)"
   ]
  },
  {
   "cell_type": "markdown",
   "metadata": {},
   "source": [
    "#### Polynomial kernel"
   ]
  },
  {
   "cell_type": "code",
   "execution_count": 54,
   "metadata": {
    "collapsed": false
   },
   "outputs": [
    {
     "data": {
      "text/plain": [
       "array([ 0.9636194 ,  0.95335821,  0.95331466])"
      ]
     },
     "execution_count": 54,
     "metadata": {},
     "output_type": "execute_result"
    }
   ],
   "source": [
    "svc_poly =svm.SVC(C=0.1,kernel='poly',degree=3)\n",
    "cross_val_score(svc_poly,X,y,cv=3,n_jobs=-1)"
   ]
  },
  {
   "cell_type": "markdown",
   "metadata": {},
   "source": [
    "#### rbf kernel"
   ]
  },
  {
   "cell_type": "code",
   "execution_count": 55,
   "metadata": {
    "collapsed": false
   },
   "outputs": [
    {
     "data": {
      "text/plain": [
       "array([ 0.77798507,  0.77798507,  0.77871148])"
      ]
     },
     "execution_count": 55,
     "metadata": {},
     "output_type": "execute_result"
    }
   ],
   "source": [
    "svc_rbf =svm.SVC(C=0.1,kernel='rbf',degree=3)\n",
    "cross_val_score(svc_rbf,X,y,cv=3,n_jobs=-1)"
   ]
  },
  {
   "cell_type": "markdown",
   "metadata": {},
   "source": [
    "SVM with a polynomial kernel of order 3 gives the best cross-validation score. I will preform a grid search to get best paramaters .\n",
    "\n",
    "WARNING : The linear kernel takes very long time."
   ]
  },
  {
   "cell_type": "code",
   "execution_count": 56,
   "metadata": {
    "collapsed": false
   },
   "outputs": [],
   "source": [
    "from sklearn.model_selection import GridSearchCV\n",
    "Cs = np.logspace(-7,-1,15)\n",
    "gammas = np.logspace(-7,1,15)\n",
    "svc_poly3 =svm.SVC(kernel='poly',degree=3)\n",
    "clf = GridSearchCV(estimator=svc_poly3,param_grid=dict(C=Cs,gamma=gammas),n_jobs=-1)"
   ]
  },
  {
   "cell_type": "markdown",
   "metadata": {},
   "source": [
    "The grid search is performed on the training dataset"
   ]
  },
  {
   "cell_type": "code",
   "execution_count": 57,
   "metadata": {
    "collapsed": false
   },
   "outputs": [
    {
     "data": {
      "text/plain": [
       "GridSearchCV(cv=None, error_score='raise',\n",
       "       estimator=SVC(C=1.0, cache_size=200, class_weight=None, coef0=0.0,\n",
       "  decision_function_shape=None, degree=3, gamma='auto', kernel='poly',\n",
       "  max_iter=-1, probability=False, random_state=None, shrinking=True,\n",
       "  tol=0.001, verbose=False),\n",
       "       fit_params={}, iid=True, n_jobs=-1,\n",
       "       param_grid={'C': array([  1.00000e-07,   2.68270e-07,   7.19686e-07,   1.93070e-06,\n",
       "         5.17947e-06,   1.38950e-05,   3.72759e-05,   1.00000e-04,\n",
       "         2.68270e-04,   7.19686e-04,   1.93070e-03,   5.17947e-03,\n",
       "         1.38950e-02,   3.72759e-02,   1.00000e-01]), 'gamma': array([  1.00000e-0...,   1.38950e-02,   5.17947e-02,   1.93070e-01,\n",
       "         7.19686e-01,   2.68270e+00,   1.00000e+01])},\n",
       "       pre_dispatch='2*n_jobs', refit=True, return_train_score=True,\n",
       "       scoring=None, verbose=0)"
      ]
     },
     "execution_count": 57,
     "metadata": {},
     "output_type": "execute_result"
    }
   ],
   "source": [
    "clf.fit(X_train,y_train)"
   ]
  },
  {
   "cell_type": "code",
   "execution_count": 60,
   "metadata": {
    "collapsed": false
   },
   "outputs": [
    {
     "name": "stdout",
     "output_type": "stream",
     "text": [
      "The best estimator :\n",
      "SVC(C=7.1968567300115142e-07, cache_size=200, class_weight=None, coef0=0.0,\n",
      "  decision_function_shape=None, degree=3, gamma=1.9306977288832496e-05,\n",
      "  kernel='poly', max_iter=-1, probability=False, random_state=None,\n",
      "  shrinking=True, tol=0.001, verbose=False)\n"
     ]
    }
   ],
   "source": [
    "print (\"The best estimator :\")\n",
    "print (clf.best_estimator_)"
   ]
  },
  {
   "cell_type": "code",
   "execution_count": 63,
   "metadata": {
    "collapsed": false
   },
   "outputs": [
    {
     "name": "stdout",
     "output_type": "stream",
     "text": [
      "The best score : 0.9602488765986865\n"
     ]
    }
   ],
   "source": [
    "print (\"The best score : {}\".format(clf.best_score_))"
   ]
  },
  {
   "cell_type": "code",
   "execution_count": 64,
   "metadata": {
    "collapsed": false
   },
   "outputs": [
    {
     "name": "stdout",
     "output_type": "stream",
     "text": [
      "The best parameters : {'C': 7.1968567300115142e-07, 'gamma': 1.9306977288832496e-05}\n"
     ]
    }
   ],
   "source": [
    "print (\"The best parameters : {}\".format(clf.best_params_))"
   ]
  },
  {
   "cell_type": "code",
   "execution_count": 65,
   "metadata": {
    "collapsed": false
   },
   "outputs": [
    {
     "name": "stdout",
     "output_type": "stream",
     "text": [
      "Score on test dataset : 0.9596273291925466\n"
     ]
    }
   ],
   "source": [
    "print (\"Score on test dataset : {}\".format(clf.score(X_test,y_test)))"
   ]
  },
  {
   "cell_type": "markdown",
   "metadata": {},
   "source": [
    "The cross-validation score on the test dataset is very good. Lets look at the predictions and metrics."
   ]
  },
  {
   "cell_type": "markdown",
   "metadata": {},
   "source": [
    "### Predictions and Metrics"
   ]
  },
  {
   "cell_type": "code",
   "execution_count": 67,
   "metadata": {
    "collapsed": false
   },
   "outputs": [
    {
     "name": "stdout",
     "output_type": "stream",
     "text": [
      "             precision    recall  f1-score   support\n",
      "\n",
      "      False       0.89      0.95      0.92        76\n",
      "       True       0.98      0.96      0.97       246\n",
      "\n",
      "avg / total       0.96      0.96      0.96       322\n",
      "\n"
     ]
    }
   ],
   "source": [
    "from sklearn.metrics import classification_report, confusion_matrix\n",
    "\n",
    "y_pred = clf.predict(X_test)\n",
    "print (metrics.classification_report(y_true=y_test,y_pred=y_pred))"
   ]
  },
  {
   "cell_type": "markdown",
   "metadata": {},
   "source": [
    "The f1-scores for both False and True are very good"
   ]
  },
  {
   "cell_type": "code",
   "execution_count": 102,
   "metadata": {
    "collapsed": false
   },
   "outputs": [
    {
     "name": "stdout",
     "output_type": "stream",
     "text": [
      "[[ 72   4]\n",
      " [  9 237]]\n"
     ]
    }
   ],
   "source": [
    "cm1 = metrics.confusion_matrix(y_true=y_test,y_pred=y_pred)\n",
    "print (cm1)\n"
   ]
  },
  {
   "cell_type": "markdown",
   "metadata": {},
   "source": [
    "There are very few false negatives and false positives.\n",
    "\n",
    "In this notebook, I have tested different classifiers. SVM with a polynomial kernel seems to perform the best. I used  grid search to find the best parameters for the model. The model gives very good predictions on the test dataset.\n",
    "\n",
    "In the next notebook, I will try to train a model using regression to estimate the location of the centroid."
   ]
  },
  {
   "cell_type": "code",
   "execution_count": null,
   "metadata": {
    "collapsed": true
   },
   "outputs": [],
   "source": []
  }
 ],
 "metadata": {
  "kernelspec": {
   "display_name": "Python 3",
   "language": "python",
   "name": "python3"
  },
  "language_info": {
   "codemirror_mode": {
    "name": "ipython",
    "version": 3
   },
   "file_extension": ".py",
   "mimetype": "text/x-python",
   "name": "python",
   "nbconvert_exporter": "python",
   "pygments_lexer": "ipython3",
   "version": "3.5.1"
  }
 },
 "nbformat": 4,
 "nbformat_minor": 2
}
